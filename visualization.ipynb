{
 "cells": [
  {
   "cell_type": "code",
   "execution_count": 6,
   "metadata": {
    "ExecuteTime": {
     "end_time": "2020-08-30T06:13:48.212786Z",
     "start_time": "2020-08-30T06:13:47.819199Z"
    }
   },
   "outputs": [
    {
     "data": {
      "image/png": "[encoded data removed]",
      "text/plain": [
       "<Figure size 720x216 with 2 Axes>"
      ]
     },
     "metadata": {
      "needs_background": "light"
     },
     "output_type": "display_data"
    }
   ],
   "source": [
    "from matplotlib import pyplot as plt\n",
    "import pickle\n",
    "%matplotlib inline\n",
    "plt.figure(figsize=(10, 3))\n",
    "import seaborn as sns; sns.set()\n",
    "with open(\"routing_score.pkl\",'rb') as h:\n",
    "    test_list=pickle.load(h)\n",
    "data=test_list[2][0].mean(axis=0,keepdims=True).squeeze()\n",
    "# data=test_list[0]\n",
    "xLabel = [\n",
    "        \"movie_id\", \"user_id\",\n",
    "        \"gender\", \"age\", \"occupation\", \"zip\", \"genre\"]\n",
    "yLabel = [\"caps_{}\".format(i+1) for i in range(4)]\n",
    "ax = sns.heatmap(data,vmin=0, vmax=1,cmap = 'Blues',xticklabels =xLabel,yticklabels=yLabel)\n",
    "ax.xaxis.set_ticks_position('top')\n",
    "plt.xticks(rotation=0)\n",
    "plt.yticks(rotation=0)\n",
    "plt.savefig('capsule_movielens.jpg',dpi=400)"
   ]
  }
 ],
 "metadata": {
  "kernelspec": {
   "display_name": "Python 3",
   "language": "python",
   "name": "python3"
  },
  "language_info": {
   "codemirror_mode": {
    "name": "ipython",
    "version": 3
   },
   "file_extension": ".py",
   "mimetype": "text/x-python",
   "name": "python",
   "nbconvert_exporter": "python",
   "pygments_lexer": "ipython3",
   "version": "3.7.3"
  },
  "toc": {
   "base_numbering": 1,
   "nav_menu": {},
   "number_sections": true,
   "sideBar": true,
   "skip_h1_title": false,
   "title_cell": "Table of Contents",
   "title_sidebar": "Contents",
   "toc_cell": false,
   "toc_position": {},
   "toc_section_display": true,
   "toc_window_display": true
  },
  "varInspector": {
   "cols": {
    "lenName": 16,
    "lenType": 16,
    "lenVar": 40
   },
   "kernels_config": {
    "python": {
     "delete_cmd_postfix": "",
     "delete_cmd_prefix": "del ",
     "library": "var_list.py",
     "varRefreshCmd": "print(var_dic_list())"
    },
    "r": {
     "delete_cmd_postfix": ") ",
     "delete_cmd_prefix": "rm(",
     "library": "var_list.r",
     "varRefreshCmd": "cat(var_dic_list()) "
    }
   },
   "types_to_exclude": [
    "module",
    "function",
    "builtin_function_or_method",
    "instance",
    "_Feature"
   ],
   "window_display": false
  }
 },
 "nbformat": 4,
 "nbformat_minor": 4
}
